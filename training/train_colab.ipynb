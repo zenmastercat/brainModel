# Basic U-Net training for lesion segmentation
import torch, torchvision
from torch import nn
from torchvision import transforms
from torch.utils.data import DataLoader, Dataset
from PIL import Image
import os

class MRIDataset(Dataset):
    def __init__(self, image_dir, mask_dir, transform):
        self.images = sorted(os.listdir(image_dir))
        self.masks = sorted(os.listdir(mask_dir))
        self.image_dir = image_dir
        self.mask_dir = mask_dir
        self.transform = transform

    def __getitem__(self, idx):
        img = Image.open(os.path.join(self.image_dir, self.images[idx])).convert("L")
        mask = Image.open(os.path.join(self.mask_dir, self.masks[idx])).convert("L")
        return self.transform(img), torch.tensor(np.array(mask) > 128).long()

    def __len__(self):
        return len(self.images)

# Model (Tiny UNet-like)
class TinyUNet(nn.Module):
    def __init__(self):
        super().__init__()
        self.net = nn.Sequential(
            nn.Conv2d(1, 8, 3, padding=1),
            nn.ReLU(),
            nn.Conv2d(8, 2, 3, padding=1)
        )

    def forward(self, x):
        return self.net(x)

# Training
transform = transforms.Compose([
    transforms.Resize((256, 256)),
    transforms.ToTensor()
])
train_ds = MRIDataset("/content/images", "/content/masks", transform)
train_dl = DataLoader(train_ds, batch_size=4, shuffle=True)
model = TinyUNet()
optimizer = torch.optim.Adam(model.parameters(), lr=1e-3)
loss_fn = nn.CrossEntropyLoss()

for epoch in range(10):
    for x, y in train_dl:
        pred = model(x)
        loss = loss_fn(pred, y)
        optimizer.zero_grad()
        loss.backward()
        optimizer.step()
    print(f"Epoch {epoch}: {loss.item()}")

torch.save(model.state_dict(), "model.pth")
